{
 "cells": [
  {
   "attachments": {},
   "cell_type": "markdown",
   "metadata": {},
   "source": [
    "# <span style=\"color:darkblue\"> Lecture 23 - Practicing Time and Plots  </span>\n",
    "\n",
    "<font size = \"5\">\n",
    "\n",
    "In  this lecture we will practice working with time in Python\n",
    "\n",
    "- There will be a quiz on this lecture\n"
   ]
  },
  {
   "attachments": {},
   "cell_type": "markdown",
   "metadata": {},
   "source": [
    "# <span style=\"color:darkblue\"> I. Review of time commands </span>\n",
    "\n",
    "<font size = \"5\">\n",
    "\n",
    "Line plot: $\\qquad \\qquad \\qquad \\quad \\ $ ``` plt.plot() ```\n",
    "\n",
    "Parse string column to date: $\\ $``` pd.to_datetime(data_column,format)```\n",
    "\n",
    "Date to string:  $\\qquad \\qquad \\quad \\ $ ```.dt.strftime(format)```\n",
    "\n",
    "Group by time period:\n",
    "$\\qquad \\ \\ $ ``` pd.Grouper(key='date', freq='m')```\n",
    "\n",
    "Include group as column: $\\quad$ ```.reset_index()```\n",
    "\n",
    "Difference between periods: $\\ $``` .diff() ```\n",
    "\n",
    "Lag a periods: $\\qquad \\qquad \\quad \\ $ ``` .shift(1) ```\n",
    "\n",
    "Between two periods (bool): $\\ $ ```.between(\"date1\",\"date2\")```\n",
    "\n",
    "Convert wide to long: $\\qquad \\quad $ ``` pd.melt(...) ```\n",
    "\n",
    "Convert long to wide: $\\qquad \\quad $ ``` pd.pivot(...) ```"
   ]
  },
  {
   "attachments": {},
   "cell_type": "markdown",
   "metadata": {},
   "source": [
    "## <span style=\"color:darkblue\"> II. Quiz Structure </span>\n",
    "\n",
    "<font size = \"5\">\n",
    "\n",
    "The day of the quiz I will ...\n",
    "- Provide a dataset with information\n",
    "- Give more specific instructions.\n",
    "- Below, you will see the type of questions that will be asked.\n",
    "- The idea is for you to apply known concepts to new data\n",
    "- You have 50 minutes to complete the assignment\n",
    "\n",
    "Questions\n",
    "\n",
    "(exact wording may change in quiz, but exercise will be very similar)\n",
    "\n",
    "The quiz will use a time series dataset\n"
   ]
  },
  {
   "attachments": {},
   "cell_type": "markdown",
   "metadata": {},
   "source": [
    "\n",
    "<font size = \"5\">\n",
    "\n",
    "(a) Import a dataset, parse date column using wildcards <br>\n",
    "$\\quad$ (see Lecture 21), and sort dataset\n",
    "\n",
    "(b) Line plots from multiple columns with a legend\n",
    "\n",
    "(c) Compute growth rates for a time series\n",
    "\n",
    "(d) Flag a subset of the data and produce a shaded plot <br>\n",
    "$\\quad$ as in Lecture 22\n",
    "\n",
    "(e) Compute aggregate dataset by time period\n",
    "\n",
    "(f) Convert a dataset to long format\n"
   ]
  },
  {
   "cell_type": "code",
   "execution_count": null,
   "metadata": {},
   "outputs": [],
   "source": [
    "# question a\n",
    "\n",
    "#import libraries\n",
    "import pandas as pd\n",
    "import matplotlib.pyplot as plt\n",
    "import matplotlib.dates as mdates\n",
    "from datetime import date, time, datetime\n",
    "\n",
    "#import data\n",
    "financial = pd.read_csv(\"data_raw/financial.csv\")\n",
    "\n",
    "#sort dataset\n",
    "#parse column called date_ex3 using table for format\n",
    "date3 = pd.to_datetime(financial[\"date_ex3\"], format = \"%b-%d, %y\")\n",
    "\n",
    "display(date3)\n",
    "\n",
    "# In \"freq\" specify the letter for the level of aggregation\n",
    "# year (y), month (m), week (w), day(d)\n",
    "\n",
    "financial[\"week\"] = financial[\"date\"].dt.to_period(freq = \"w\")"
   ]
  },
  {
   "cell_type": "code",
   "execution_count": null,
   "metadata": {},
   "outputs": [],
   "source": [
    "# question b\n",
    "\n",
    "# Enter the x-axis column and y-axis columns you \n",
    "# wish to include. Specify the x-axis column with \"set_index()\"\n",
    "# This applies to any line plot, with or without dates\n",
    "# The legend is the box with the name of the lines\n",
    "# If you drop the \".legend()\" command this will assign\n",
    "# the default column names to the legend.\n",
    "\n",
    "\n",
    "financial[[\"date\",\"sp500\",\"djia\"]].set_index(\"date\").plot()\n",
    "plt.xlabel(\"Time\")\n",
    "plt.ylabel(\"Value of Index Funds\")\n",
    "plt.legend([\"S&P 500\",\"Dow Jones\"])"
   ]
  },
  {
   "cell_type": "code",
   "execution_count": null,
   "metadata": {},
   "outputs": [],
   "source": [
    "# question c\n",
    "\n",
    "# \".shif(1)\" compute a new column with the value of \"sp500\"\n",
    "# one period before. By convention the first column is assigned\n",
    "# a missing value\n",
    "# We can combine \".diff()\" and \".shift()\" to compute growth rates\n",
    "\n",
    "financial[\"lag_sp500\"]    = financial[\"sp500\"].shift(1)\n",
    "financial[\"growth_sp500\"] = financial[\"diff_sp500\"]* 100/financial[\"lag_sp500\"]\n",
    "\n",
    "display(financial[[\"sp500\",\"lag_sp500\",\"diff_sp500\",\"growth_sp500\"]])\n"
   ]
  },
  {
   "cell_type": "code",
   "execution_count": null,
   "metadata": {},
   "outputs": [],
   "source": [
    "# question d\n",
    "\n",
    "# flag oberservations\n",
    "\n",
    "financial[\"bool_period\"]  = financial[\"date\"].between(\"2020-03-01\",\"2020-05-01\")\n",
    "financial[\"bool_example\"] = financial[\"growth_sp500\"] > 5\n",
    "\n",
    "# Create a line plot\n",
    "plt.plot(\"date\", \"growth_sp500\", data = financial)\n",
    "plt.xlabel(\"Time\")\n",
    "plt.ylabel(\"Daily percentage change \")\n",
    "plt.title(\"The S&P 500 during the start of COVID\")\n",
    "\n",
    "# Add a shaded region wth a rectangle\n",
    "# \"x\" is the x-coordinates, \"y1\" and \"y2\" are the lower\n",
    "# and upper bounds of the rectangle. We can set this\n",
    "# to be the minimum and meximum of the outcome.\n",
    "# we use \"where\" to test a logical condition\n",
    "\n",
    "vec_y = financial[\"growth_sp500\"]\n",
    "plt.fill_between(x= financial[\"date\"],\n",
    "                 y1 = vec_y.min(),\n",
    "                 y2 = vec_y.max(),\n",
    "                 where = financial[\"bool_period\"],\n",
    "                 alpha = 0.2,color = \"red\")\n",
    "\n",
    "plt.show()"
   ]
  },
  {
   "cell_type": "code",
   "execution_count": null,
   "metadata": {},
   "outputs": [],
   "source": [
    "# question e\n",
    "\n",
    "# First sort columns by date. The second computes the\n",
    "# differences in \"sp500\" between each row and the one before it\n",
    "# By convention, the first row gets a missing value because\n",
    "# there is nothing to compare. For this to work, it's important\n",
    "# that the dataset is sorted.\n",
    "\n",
    "financial[\"diff_sp500\"] = financial[\"sp500\"].diff()\n",
    "\n",
    "display(financial[[\"sp500\",\"diff_sp500\"]])"
   ]
  },
  {
   "cell_type": "code",
   "execution_count": null,
   "metadata": {},
   "outputs": [],
   "source": [
    "# question f\n",
    "\n",
    "# convert the \"growth_sp500\" and \"growth_dija\" to long format\n",
    "# Note: You can give any custom value to \"var_name\" or \"value_name\"\n",
    "\n",
    "financial_long = pd.melt(financial,\n",
    "                         var_name   = \"series\",\n",
    "                         value_name = \"daily_growth\",\n",
    "                         id_vars='date',\n",
    "                         value_vars=['growth_sp500','growth_djia'])\n",
    "\n",
    "display(financial_long)"
   ]
  }
 ],
 "metadata": {
  "kernelspec": {
   "display_name": "Python 3",
   "language": "python",
   "name": "python3"
  },
  "language_info": {
   "codemirror_mode": {
    "name": "ipython",
    "version": 3
   },
   "file_extension": ".py",
   "mimetype": "text/x-python",
   "name": "python",
   "nbconvert_exporter": "python",
   "pygments_lexer": "ipython3",
   "version": "3.11.1 (v3.11.1:a7a450f84a, Dec  6 2022, 15:24:06) [Clang 13.0.0 (clang-1300.0.29.30)]"
  },
  "orig_nbformat": 4,
  "vscode": {
   "interpreter": {
    "hash": "aee8b7b246df8f9039afb4144a1f6fd8d2ca17a180786b69acc140d282b71a49"
   }
  }
 },
 "nbformat": 4,
 "nbformat_minor": 2
}
